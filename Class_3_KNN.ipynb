{
 "cells": [
  {
   "cell_type": "code",
   "execution_count": 1,
   "metadata": {},
   "outputs": [],
   "source": [
    "import numpy as np\n",
    "import pandas as pd\n",
    "import matplotlib.pyplot as plt\n",
    "%matplotlib inline\n",
    "from sklearn import neighbors"
   ]
  },
  {
   "cell_type": "code",
   "execution_count": 2,
   "metadata": {},
   "outputs": [
    {
     "name": "stdout",
     "output_type": "stream",
     "text": [
      "(500, 2)\n",
      "(500, 2)\n"
     ]
    }
   ],
   "source": [
    "## Input data generation\n",
    "mean_01 = np.array([0.0, 0.0])\n",
    "cov_01 = np.array([[1.0, 0.1], [0.1, 1.1]])\n",
    "\n",
    "mean_02 = np.array([5.0, 6.0])\n",
    "cov_02 = np.array([[1.2, 0.2], [0.2, 1.5]])\n",
    "\n",
    "dist_01 = np.random.multivariate_normal(mean_01, cov_01, 500)\n",
    "dist_02 = np.random.multivariate_normal(mean_02, cov_02, 500)\n",
    "\n",
    "print dist_01.shape\n",
    "print dist_01.shape\n",
    "\n"
   ]
  },
  {
   "cell_type": "code",
   "execution_count": 3,
   "metadata": {},
   "outputs": [
    {
     "data": {
      "image/png": "[encoded data removed]",
      "text/plain": [
       "<Figure size 432x288 with 1 Axes>"
      ]
     },
     "metadata": {},
     "output_type": "display_data"
    }
   ],
   "source": [
    "for ix in range(dist_01.shape[0]):\n",
    "    plt.scatter(dist_01[ix, 0],dist_01[ix, 1],c='r')\n",
    "    plt.scatter(dist_02[ix, 0],dist_02[ix, 1],c='g')\n",
    "plt.show()\n",
    "    "
   ]
  },
  {
   "cell_type": "code",
   "execution_count": 4,
   "metadata": {},
   "outputs": [
    {
     "name": "stdout",
     "output_type": "stream",
     "text": [
      "(1000, 3)\n"
     ]
    }
   ],
   "source": [
    "rows = dist_01.shape[0] + dist_02.shape[0]\n",
    "cols = dist_01.shape[1] + 1\n",
    "\n",
    "data = np.zeros((rows, cols))\n",
    "print data.shape"
   ]
  },
  {
   "cell_type": "code",
   "execution_count": 5,
   "metadata": {},
   "outputs": [
    {
     "name": "stdout",
     "output_type": "stream",
     "text": [
      "(1000, 3)\n"
     ]
    }
   ],
   "source": [
    "data[:dist_01.shape[0], :-1] = dist_01\n",
    "data[dist_01.shape[0]:dist_01.shape[0]+dist_02.shape[0], :-1] = dist_02 ## dist_01.shape[0]+dist_02.shape[0] can be removed\n",
    "data[dist_01.shape[0]:dist_01.shape[0]+dist_02.shape[0], -1] = 1.0\n",
    "print data.shape "
   ]
  },
  {
   "cell_type": "code",
   "execution_count": 6,
   "metadata": {},
   "outputs": [
    {
     "name": "stdout",
     "output_type": "stream",
     "text": [
      "[[-1.28442359  0.65775287  0.        ]\n",
      " [ 0.35633093 -0.10871143  0.        ]\n",
      " [-0.1218282  -1.10981543  0.        ]\n",
      " [ 0.52775124  1.19626851  0.        ]\n",
      " [ 3.11304804  4.70585956  1.        ]\n",
      " [-0.47012476  1.08656499  0.        ]\n",
      " [-1.10170946  0.86541445  0.        ]\n",
      " [ 6.80303471  6.29412113  1.        ]\n",
      " [-2.3712621  -0.00844636  0.        ]\n",
      " [-0.88347733 -1.40586087  0.        ]]\n"
     ]
    }
   ],
   "source": [
    "np.random.shuffle(data)\n",
    "print data[:10]"
   ]
  },
  {
   "cell_type": "code",
   "execution_count": 7,
   "metadata": {},
   "outputs": [
    {
     "name": "stdout",
     "output_type": "stream",
     "text": [
      "(150, 2)\n",
      "(150,)\n"
     ]
    }
   ],
   "source": [
    "## Testing training split\n",
    "split_factor = 0.85\n",
    "split  = int(data.shape[0]*split_factor)\n",
    "train_data = data[:split]\n",
    "# print test_data.shape\n",
    "test_data = data[split:]\n",
    "# print train_data.shape\n",
    "\n",
    "x_train = train_data[:,:-1]\n",
    "y_train = train_data[:,-1]\n",
    "\n",
    "x_test = test_data[:,:-1]\n",
    "y_test = test_data[:,-1]\n",
    "print x_test.shape\n",
    "print y_test.shape"
   ]
  },
  {
   "cell_type": "code",
   "execution_count": 8,
   "metadata": {},
   "outputs": [
    {
     "name": "stdout",
     "output_type": "stream",
     "text": [
      "(array([0., 1.]), array([422, 428]))\n",
      "[0. 1.]\n"
     ]
    }
   ],
   "source": [
    "print np.unique(y_train, return_counts = True)\n",
    "print np.unique(y_train)"
   ]
  },
  {
   "cell_type": "code",
   "execution_count": 9,
   "metadata": {},
   "outputs": [
    {
     "name": "stdout",
     "output_type": "stream",
     "text": [
      "1.4142135623730951\n"
     ]
    }
   ],
   "source": [
    "def distance(p1, p2):\n",
    "    '''Eucledian Distance'''\n",
    "    dist = np.sqrt(((p1-p2)**2).sum())\n",
    "    return dist\n",
    "print(distance(np.array([0.0,0.0]), np.array([1.0,1.0])))"
   ]
  },
  {
   "cell_type": "code",
   "execution_count": 10,
   "metadata": {},
   "outputs": [
    {
     "name": "stdout",
     "output_type": "stream",
     "text": [
      "2.0\n"
     ]
    }
   ],
   "source": [
    "def manDistance(p1, p2):\n",
    "    '''Eucledian Distance'''\n",
    "    dist = (np.abs(p1-p2).sum())\n",
    "    return dist\n",
    "print(manDistance(np.array([0.0,0.0]), np.array([1.0,1.0])))"
   ]
  },
  {
   "cell_type": "code",
   "execution_count": 11,
   "metadata": {},
   "outputs": [],
   "source": [
    "# np.matmul? ## For matrix multiplication"
   ]
  },
  {
   "cell_type": "code",
   "execution_count": 12,
   "metadata": {},
   "outputs": [],
   "source": [
    "## K-=Nearest Neighbours\n",
    "def KNN(test_point,x_train,y_train,k=13):\n",
    "    '''This function returns a predicted label for a test data'''\n",
    "    d = []\n",
    "    for ix in range(x_train.shape[0]):\n",
    "        dist = distance(test_point,x_train[ix])\n",
    "        d.append((dist,y_train[ix]))\n",
    "    d = np.array(d)\n",
    "    sorted_vals = sorted(d, key = lambda z:z[0]) ## To sort on the basis of a col\n",
    "    sorted_vals = np.array(sorted_vals)[:k]\n",
    "    freq = np.unique(sorted_vals[:,-1], return_counts = True)\n",
    "    label = freq[0][freq[1].argmax()]\n",
    "    return label\n",
    "    \n",
    "    "
   ]
  },
  {
   "cell_type": "code",
   "execution_count": 13,
   "metadata": {},
   "outputs": [
    {
     "name": "stdout",
     "output_type": "stream",
     "text": [
      "7\n",
      "4\n"
     ]
    }
   ],
   "source": [
    "x = np.array([1, 2, 3, 6, 7, 3, 1])\n",
    "print x.max()  ## Returns max value of list\n",
    "print x.argmax() ## Returns index of max value of list"
   ]
  },
  {
   "cell_type": "code",
   "execution_count": 14,
   "metadata": {},
   "outputs": [],
   "source": [
    "\n",
    "def getAcc(x_test,y_test,x_train,y_train,k=13):\n",
    "    data = 0.0\n",
    "    for ix in range(x_test.shape[0]): \n",
    "        data += (KNN(x_test[ix],x_train,y_train,k) == y_test[ix])\n",
    "    return data/(x_test.shape[0])\n",
    "# print data\n",
    "# print float(data)/(x_test.shape[0])\n"
   ]
  },
  {
   "cell_type": "code",
   "execution_count": 15,
   "metadata": {},
   "outputs": [],
   "source": [
    "# data1 = np.sum( KNN(x_test,x_train,y_train,5) == y_test )\n",
    "# print float(data1)/x_test.shape[0]"
   ]
  },
  {
   "cell_type": "code",
   "execution_count": 16,
   "metadata": {},
   "outputs": [],
   "source": [
    "ds_test = pd.read_csv('./fashionmnist/fashion-mnist_test.csv')\n",
    "ds_train = pd.read_csv('./fashionmnist/fashion-mnist_train.csv')"
   ]
  },
  {
   "cell_type": "code",
   "execution_count": 17,
   "metadata": {},
   "outputs": [
    {
     "name": "stdout",
     "output_type": "stream",
     "text": [
      "(60000, 785)\n",
      "(10000, 785)\n",
      "0.735\n"
     ]
    }
   ],
   "source": [
    "fashion_data_train = ds_train.values\n",
    "print fashion_data_train.shape\n",
    "x_train = fashion_data_train[:1000,1:]\n",
    "y_train = fashion_data_train[:1000,0]\n",
    "\n",
    "fashion_data_test = ds_test.values\n",
    "print fashion_data_test.shape\n",
    "x_test = fashion_data_test[:200,1:]\n",
    "y_test = fashion_data_test[:200,0]\n",
    "\n",
    "print(getAcc(x_test,y_test,x_train,y_train,13))"
   ]
  },
  {
   "cell_type": "code",
   "execution_count": 18,
   "metadata": {},
   "outputs": [],
   "source": [
    "ds_test.head(n=1)\n",
    "fashion_data_test = np.array(fashion_data_test)"
   ]
  },
  {
   "cell_type": "code",
   "execution_count": 21,
   "metadata": {},
   "outputs": [
    {
     "name": "stdout",
     "output_type": "stream",
     "text": [
      "(28, 28)\n",
      "[[  0   0   0   0   0   0   0   9   8   0   0  34  29   7   0  11  24   0\n",
      "    0   3   3   1   0   1   1   0   0   0]\n",
      " [  0   0   4   0   0   1   0   0   0   0   0  44  88  99 122 123  80   0\n",
      "    0   0   0   1   1   1   0   0   0   0]\n",
      " [  0   0   1   2   0   0   0   3  46 174 249  67   0  94 210  61  14 212\n",
      "  157  37   0   0   0   0   1   0   0   0]\n",
      " [  0   0   2   2   0  23 168 206 242 239 238 214 125  61 113  74 133 236\n",
      "  238 236 203 184  20   0   1   0   0   0]\n",
      " [  0   0   1   0   0 175 245 223 207 205 206 216 255 237 251 232 223 212\n",
      "  200 205 216 249 173   0   0   2   0   0]\n",
      " [  0   0   7   0  53 225 201 197 200 201 206 199 197 185 194 204 232 226\n",
      "  249 219 194 205 229  33   0   1   0   0]\n",
      " [  0   0   1   0 133 223 208 192 195 233 226 216 191 210 188 236 186   0\n",
      "   50 234 207 208 231 133   0   0   0   0]\n",
      " [  0   0   0   0 216 218 216 194 229 172  64 219 201 200 200 247  68  72\n",
      "   54 165 237 212 219 226   0   0   0   0]\n",
      " [  0   0   0  50 221 207 220 211 207 165 138 205 192 191 190 232 119 113\n",
      "   67 173 237 217 208 221  29   0   0   0]\n",
      " [  0   0   0 131 216 200 219 207 212 231 226 193 214 224 206 203 230 122\n",
      "  112 234 224 214 204 224 123   0   0   0]\n",
      " [  0   0   0 195 212 204 211 203 205 200 184 213 162 138 193 207 203 231\n",
      "  245 208 220 211 203 219 179   0   0   0]\n",
      " [  0   0   8 185 191 218 233 219 201 221 213 246 114 127  80 129 232 198\n",
      "  218 207 236 227 220 216 172  21   0   0]\n",
      " [  0   0  21   4   5  64 160 224 224 144 187 197 211 207 186 192 210 212\n",
      "  218 225 236 177 106  56  28   1   0   0]\n",
      " [  0   0   1   1   0   2   0 116 252  96 120  51  73  70 123  79  76  64\n",
      "  162 252 118   1   3   0   4   2   0   0]\n",
      " [  0   0   0   0   0   0   0 115 226 145 170 155 165 161 159 125 175 140\n",
      "  174 236  95   0   2   2   0   0   0   0]\n",
      " [  0   0   0   0   1   2   0 131 225 204 217 221 220 217 224 231 226 237\n",
      "  203 237 102   0   4   2   1   2   0   0]\n",
      " [  0   0   1   1   0   3   0 135 223 201 199 194 198 195 198 192 203 199\n",
      "  207 231 112   0   4   0   0   0   0   0]\n",
      " [  0   0   1   1   0   1   0 134 223 199 206 199 201 200 203 206 207 210\n",
      "  206 227 119   0   3   0   0   1   0   0]\n",
      " [  0   0   0   0   0   1   0 139 223 198 204 200 201 200 201 204 206 208\n",
      "  206 229 128   0   4   0   0   0   0   0]\n",
      " [  0   0   0   0   0   1   0 145 223 195 205 201 201 200 204 204 206 211\n",
      "  205 230 139   0   2   0   0   0   0   0]\n",
      " [  0   0   1   0   1   0   0 157 221 194 204 204 201 201 203 205 208 211\n",
      "  204 230 148   0   2   0   1   1   0   0]\n",
      " [  0   0   1   1   1   0   0 166 220 194 203 203 205 203 203 206 207 212\n",
      "  204 230 157   0   2   1   1   1   0   0]\n",
      " [  0   0   0   0   0   0   0 171 221 195 206 200 199 203 203 205 206 207\n",
      "  204 226 181   0   0   0   0   0   0   0]\n",
      " [  0   0   0   0   1   0   0 165 224 197 201 208 199 204 205 207 210 213\n",
      "  207 229 187   0   1   2   0   0   0   0]\n",
      " [  0   0   0   0   0   0   0 128 201 203 201 207 211 203 205 206 210 213\n",
      "  205 225 191   0   0   2   0   0   0   0]\n",
      " [  0   0   0   0   1   1   0 141 201 191 188 194 187 187 191 193 195 199\n",
      "  199 218 161   0   0   0   0   0   0   0]\n",
      " [  0   0   0   0   0   1   0 212 240 213 239 233 239 231 232 236 242 245\n",
      "  224 245 234   0   3   0   0   0   0   0]\n",
      " [  0   0   0   0   0   0   0  37  69  94 123 127 138 138 142 145 135 125\n",
      "  103  87  56   0   0   0   0   0   0   0]]\n"
     ]
    },
    {
     "data": {
      "text/plain": [
       "<matplotlib.image.AxesImage at 0x110f3a590>"
      ]
     },
     "execution_count": 21,
     "metadata": {},
     "output_type": "execute_result"
    },
    {
     "data": {
      "image/png": "[encoded data removed]",
      "text/plain": [
       "<Figure size 432x288 with 1 Axes>"
      ]
     },
     "metadata": {},
     "output_type": "display_data"
    }
   ],
   "source": [
    "img = np.reshape(fashion_data_test[0,1:],(28,28))\n",
    "print img.shape\n",
    "print img\n",
    "plt.imshow(img,cmap='gray')\n",
    "    "
   ]
  },
  {
   "cell_type": "code",
   "execution_count": 20,
   "metadata": {},
   "outputs": [
    {
     "data": {
      "text/plain": [
       "0.745"
      ]
     },
     "execution_count": 20,
     "metadata": {},
     "output_type": "execute_result"
    }
   ],
   "source": [
    "## KNN using scikit learn\n",
    "cls = neighbors.KNeighborsClassifier()\n",
    "cls.fit( x_train, y_train )\n",
    "cls.score(x_test, y_test)"
   ]
  },
  {
   "cell_type": "code",
   "execution_count": null,
   "metadata": {},
   "outputs": [],
   "source": []
  }
 ],
 "metadata": {
  "kernelspec": {
   "display_name": "Python 2",
   "language": "python",
   "name": "python2"
  },
  "language_info": {
   "codemirror_mode": {
    "name": "ipython",
    "version": 2
   },
   "file_extension": ".py",
   "mimetype": "text/x-python",
   "name": "python",
   "nbconvert_exporter": "python",
   "pygments_lexer": "ipython2",
   "version": "2.7.15"
  }
 },
 "nbformat": 4,
 "nbformat_minor": 2
}
