{
 "cells": [
  {
   "cell_type": "code",
   "execution_count": 1,
   "metadata": {},
   "outputs": [],
   "source": [
    "import numpy as np\n",
    "import matplotlib.pyplot as plt\n",
    "%matplotlib inline"
   ]
  },
  {
   "cell_type": "code",
   "execution_count": 4,
   "metadata": {},
   "outputs": [
    {
     "name": "stdout",
     "output_type": "stream",
     "text": [
      "(500, 2)\n",
      "(500, 2)\n"
     ]
    }
   ],
   "source": [
    "mean_01 = np.array([0.0, 0.0])\n",
    "mean_02 = np.array([5.0, 5.0])\n",
    "\n",
    "cov_01 = np.array([[1.0, 0.2],[0.2, 1.1]])\n",
    "cov_02 = np.array([[1.0, 0.3],[0.3, 1.1]])\n",
    "\n",
    "dist_01 = np.random.multivariate_normal(mean_01, cov_01, 500)\n",
    "dist_02 = np.random.multivariate_normal(mean_02, cov_02, 500)\n",
    "\n",
    "print dist_01.shape\n",
    "print dist_02.shape"
   ]
  },
  {
   "cell_type": "code",
   "execution_count": 5,
   "metadata": {},
   "outputs": [
    {
     "data": {
      "image/png": "[encoded data removed]",
      "text/plain": [
       "<Figure size 432x288 with 1 Axes>"
      ]
     },
     "metadata": {},
     "output_type": "display_data"
    }
   ],
   "source": [
    "plt.scatter(dist_01[:, 0], dist_01[:, 1], c='r')\n",
    "plt.scatter(dist_02[:, 0], dist_02[:, 1], c='b')\n",
    "\n",
    "plt.show()"
   ]
  },
  {
   "cell_type": "code",
   "execution_count": 6,
   "metadata": {},
   "outputs": [
    {
     "name": "stdout",
     "output_type": "stream",
     "text": [
      "(1000, 3)\n"
     ]
    }
   ],
   "source": [
    "## Total Dataset\n",
    "rows = dist_01.shape[0] + dist_02.shape[0]\n",
    "cols = dist_01.shape[1] + 1\n",
    "\n",
    "data = np.zeros((rows, cols))\n",
    "print data.shape\n",
    "\n",
    "data[:dist_01.shape[0], :dist_01.shape[1]] = dist_01\n",
    "data[dist_01.shape[0]: rows, :dist_01.shape[1]] = dist_02\n",
    "data[dist_01.shape[0]: rows, -1] = 1.0"
   ]
  },
  {
   "cell_type": "code",
   "execution_count": 7,
   "metadata": {},
   "outputs": [
    {
     "data": {
      "text/plain": [
       "array([[-1.49487951,  0.34868395,  0.        ],\n",
       "       [-1.12193765,  0.63936543,  0.        ],\n",
       "       [ 5.66331792,  7.33382212,  1.        ],\n",
       "       [ 6.81271761,  4.28549734,  1.        ],\n",
       "       [ 6.02197575,  5.18840525,  1.        ],\n",
       "       [ 0.79911019,  0.98506701,  0.        ],\n",
       "       [ 0.19432448, -0.71973852,  0.        ],\n",
       "       [ 4.9906953 ,  6.30726915,  1.        ],\n",
       "       [ 5.02460098,  4.96397224,  1.        ],\n",
       "       [ 5.94978851,  7.04095952,  1.        ]])"
      ]
     },
     "execution_count": 7,
     "metadata": {},
     "output_type": "execute_result"
    }
   ],
   "source": [
    "np.random.shuffle(data)\n",
    "\n",
    "data[:10]"
   ]
  },
  {
   "cell_type": "code",
   "execution_count": 8,
   "metadata": {},
   "outputs": [
    {
     "name": "stdout",
     "output_type": "stream",
     "text": [
      "(750, 2)\n",
      "(250, 2)\n",
      "(750,)\n",
      "(250,)\n"
     ]
    }
   ],
   "source": [
    "## Data Splitting\n",
    "split = int(0.75*data.shape[0])\n",
    "X_train = data[:split, :-1]\n",
    "Y_train = data[:split, -1]\n",
    "\n",
    "X_test = data[split:, :-1]\n",
    "Y_test = data[split:, -1]\n",
    "\n",
    "print X_train.shape\n",
    "print X_test.shape\n",
    "print Y_train.shape\n",
    "print Y_test.shape"
   ]
  },
  {
   "cell_type": "code",
   "execution_count": 9,
   "metadata": {},
   "outputs": [],
   "source": [
    "'''Functions'''\n",
    "def sigmoid(z):\n",
    "    sig = 1.0/(1+np.exp(-1*z))\n",
    "    return sig"
   ]
  },
  {
   "cell_type": "code",
   "execution_count": 10,
   "metadata": {},
   "outputs": [],
   "source": [
    "def hypothesis(x_sample,w,b):\n",
    "    h = b + (x_sample*w).sum()\n",
    "    return sigmoid(h)"
   ]
  },
  {
   "cell_type": "code",
   "execution_count": 16,
   "metadata": {},
   "outputs": [],
   "source": [
    "def get_error(x, w, y_true, b):\n",
    "    err = 0.0\n",
    "    m = x.shape[0]\n",
    "    for ix in range(m):\n",
    "        add_term = -1*((y_true[ix]*(np.log(hypothesis(x[ix], w, b))))+((1-y_true[ix])*(np.log(1 - hypothesis(x[ix], w, b)))))\n",
    "        err += add_term\n",
    "    err = err/m\n",
    "    return err"
   ]
  },
  {
   "cell_type": "code",
   "execution_count": 21,
   "metadata": {},
   "outputs": [],
   "source": [
    "def get_gradients(x,w,y_true,b):\n",
    "    grad_w = np.zeros(w.shape[0])\n",
    "    grad_b = 0\n",
    "    \n",
    "    m = x.shape[0]\n",
    "    for ix in range(m):\n",
    "        grad_w += (hypothesis(x[ix], w, b) - y_true[ix])*(x[ix])\n",
    "        grad_b += (hypothesis(x[ix], w, b) - y_true[ix])*(1)\n",
    "    \n",
    "    return [grad_w, grad_b]"
   ]
  },
  {
   "cell_type": "code",
   "execution_count": 22,
   "metadata": {},
   "outputs": [],
   "source": [
    "def optimizer(x,w,y_true,b,learning_rate=0.001):\n",
    "    error = get_error(x, w, y_true, b)\n",
    "    \n",
    "    [grad_w, grad_b] = get_gradients(x, w, y_true, b)\n",
    "    \n",
    "    b = b - learning_rate*grad_b\n",
    "    w = w - learning_rate*grad_w\n",
    "    \n",
    "    return error, w, b"
   ]
  },
  {
   "cell_type": "code",
   "execution_count": 23,
   "metadata": {},
   "outputs": [],
   "source": [
    "def Logistic_Regression(X_train, Y_train, nb_epochs=200, learning_rate=0.0001):\n",
    "    \n",
    "    loss = []\n",
    "    \n",
    "    ## Parameter Initialisation\n",
    "    W = np.array([0.3, 0.2])\n",
    "    b = 3.6\n",
    "    \n",
    "    for ix in range(nb_epochs):\n",
    "        error, W, b = optimizer(X_train, W, Y_train, b, learning_rate)\n",
    "        loss.append(error)\n",
    "        \n",
    "    W_final = W\n",
    "    b_final = b\n",
    "    \n",
    "    return loss, W_final, b_final"
   ]
  },
  {
   "cell_type": "code",
   "execution_count": 24,
   "metadata": {},
   "outputs": [],
   "source": [
    "loss_logs, W_final, b_final = Logistic_Regression(X_train, Y_train)"
   ]
  },
  {
   "cell_type": "code",
   "execution_count": 25,
   "metadata": {},
   "outputs": [
    {
     "data": {
      "image/png": "[encoded data removed]",
      "text/plain": [
       "<Figure size 432x288 with 1 Axes>"
      ]
     },
     "metadata": {},
     "output_type": "display_data"
    }
   ],
   "source": [
    "plt.plot(loss_logs)\n",
    "plt.show()"
   ]
  },
  {
   "cell_type": "code",
   "execution_count": 49,
   "metadata": {},
   "outputs": [],
   "source": [
    "class LogisticRegression:\n",
    "    \n",
    "    def sigmoid(z):\n",
    "        sig = 1.0/(1+np.exp(-1*z))\n",
    "        return sig\n",
    "    \n",
    "    def hypothesis(x_sample,w,b):\n",
    "        h = b + (x_sample*w).sum()\n",
    "        return sigmoid(h)\n",
    "    \n",
    "    def get_error(x, w, y_true, b):\n",
    "        err = 0.0\n",
    "        m = x.shape[0]\n",
    "        for ix in range(m):\n",
    "            add_term = -1*((y_true[ix]*(np.log(hypothesis(x[ix], w, b))))+((1-y_true[ix])*(np.log(1 - hypothesis(x[ix], w, b)))))\n",
    "            err += add_term\n",
    "        err = err/m\n",
    "        return err\n",
    "    \n",
    "    def get_gradients(x,w,y_true,b):\n",
    "        grad_w = np.zeros(w.shape[0])\n",
    "        grad_b = 0    \n",
    "        m = x.shape[0]\n",
    "        for ix in range(m):\n",
    "            grad_w += (hypothesis(x[ix], w, b) - y_true[ix])*(x[ix])\n",
    "            grad_b += (hypothesis(x[ix], w, b) - y_true[ix])*(1)\n",
    "        return [grad_w, grad_b]\n",
    "    \n",
    "    def optimizer(x,w,y_true,b,learning_rate=0.001):\n",
    "        error = get_error(x, w, y_true, b)\n",
    "        [grad_w, grad_b] = get_gradients(x, w, y_true, b)\n",
    "        b = b - learning_rate*grad_b\n",
    "        w = w - learning_rate*grad_w\n",
    "        return error, w, b\n",
    "    \n",
    "    def Logistic_Regression(X_train, Y_train, nb_epochs=200, learning_rate=0.0001):\n",
    "        loss = []\n",
    "        ## Parameter Initialisation\n",
    "        W = np.array([0.3, 0.2])\n",
    "        b = 3.6\n",
    "        for ix in range(nb_epochs):\n",
    "            error, W, b = optimizer(X_train, W, Y_train, b, learning_rate)\n",
    "            loss.append(error)     \n",
    "        W_final = W\n",
    "        b_final = b\n",
    "        return loss, W_final, b_final\n",
    "    \n",
    "    fin_loss = []\n",
    "    fin_w = np.array([0.3, 0.2])\n",
    "    fin_b = 3.6\n",
    "    \n",
    "    \n",
    "    \n",
    "    def fit(self,x_train,y_train):\n",
    "        self.fin_loss, self.fin_w, self.fin_b = Logistic_Regression(x_train, y_train)\n",
    "        plt.plot(self.fin_loss)\n",
    "        plt.show()\n",
    "        \n",
    "    def predict(self, x_test):\n",
    "        y_pred = []\n",
    "        m = x_test.shape[0]\n",
    "        for ix in range(m):\n",
    "            cur_ans = hypothesis(x_test[ix],self.fin_w,self.fin_b)\n",
    "            y_pred.append(cur_ans)\n",
    "        return np.array(y_pred)\n",
    "    \n",
    "    def score(self,x_test,y_test):\n",
    "        m = x_test.shape[0]\n",
    "        ctr = 0.0\n",
    "        for ix in range(m):\n",
    "            ans_pred = hypothesis(x_test[ix],self.fin_w,self.fin_b)\n",
    "            if ans_pred>=0.5:\n",
    "                fin_ans = 1.0\n",
    "            else:\n",
    "                fin_ans = 0.0\n",
    "            if fin_ans==y_test[ix]:\n",
    "                ctr += 1\n",
    "        return ctr/m"
   ]
  },
  {
   "cell_type": "code",
   "execution_count": 50,
   "metadata": {},
   "outputs": [
    {
     "data": {
      "image/png": "[encoded data removed]",
      "text/plain": [
       "<Figure size 432x288 with 1 Axes>"
      ]
     },
     "metadata": {},
     "output_type": "display_data"
    }
   ],
   "source": [
    "lr = LogisticRegression()\n",
    "lr.fit(X_train,Y_train)"
   ]
  },
  {
   "cell_type": "code",
   "execution_count": 51,
   "metadata": {},
   "outputs": [
    {
     "name": "stdout",
     "output_type": "stream",
     "text": [
      "(250,)\n"
     ]
    }
   ],
   "source": [
    "y_pred = lr.predict(X_test)\n",
    "y_pred = np.array(y_pred)\n",
    "print y_pred.shape"
   ]
  },
  {
   "cell_type": "code",
   "execution_count": 53,
   "metadata": {},
   "outputs": [
    {
     "name": "stdout",
     "output_type": "stream",
     "text": [
      "0.948\n"
     ]
    }
   ],
   "source": [
    "print lr.score(X_test,Y_test)"
   ]
  },
  {
   "cell_type": "code",
   "execution_count": null,
   "metadata": {},
   "outputs": [],
   "source": []
  }
 ],
 "metadata": {
  "kernelspec": {
   "display_name": "Python 2",
   "language": "python",
   "name": "python2"
  },
  "language_info": {
   "codemirror_mode": {
    "name": "ipython",
    "version": 2
   },
   "file_extension": ".py",
   "mimetype": "text/x-python",
   "name": "python",
   "nbconvert_exporter": "python",
   "pygments_lexer": "ipython2",
   "version": "2.7.15"
  }
 },
 "nbformat": 4,
 "nbformat_minor": 2
}
