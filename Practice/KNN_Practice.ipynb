{
 "cells": [
  {
   "cell_type": "code",
   "execution_count": 12,
   "metadata": {},
   "outputs": [],
   "source": [
    "import numpy as np\n",
    "import pandas as pd\n",
    "import matplotlib.pyplot as plt\n",
    "%matplotlib inline\n",
    "from sklearn import neighbors"
   ]
  },
  {
   "cell_type": "code",
   "execution_count": 13,
   "metadata": {},
   "outputs": [],
   "source": [
    "def distance(k1,k2):\n",
    "    dist = np.sqrt(((k1-k2)**2).sum())\n",
    "    return dist"
   ]
  },
  {
   "cell_type": "code",
   "execution_count": 22,
   "metadata": {},
   "outputs": [],
   "source": [
    "def KNN(test_point, x_train, y_train, k=13):\n",
    "    d = []\n",
    "    for ix in range(x_train.shape[0]):\n",
    "        dist = distance(test_point,x_train[ix])\n",
    "        d.append((dist,y_train[ix]))\n",
    "    d = np.array(d)\n",
    "    sorted_dist = sorted(d,key = lambda z:z[0])\n",
    "    sorted_dist = np.array(sorted_dist)[:k]\n",
    "    freq = np.unique(sorted_dist[:,-1], return_counts = True)\n",
    "    label = freq[0][freq[1].argmax()]\n",
    "    return label\n",
    "    "
   ]
  },
  {
   "cell_type": "code",
   "execution_count": 23,
   "metadata": {},
   "outputs": [],
   "source": [
    "def getAccuracy(x_test, y_test, x_train, y_train, k=13):\n",
    "    ctr = 0.0\n",
    "    for ix in range(x_test.shape[0]):\n",
    "        if KNN(x_test[ix],x_train,y_train,k)==y_test[ix]:\n",
    "            ctr+=1;\n",
    "    return ctr/x_test.shape[0]"
   ]
  },
  {
   "cell_type": "code",
   "execution_count": 17,
   "metadata": {},
   "outputs": [],
   "source": [
    "ds_test = pd.read_csv('../ClassMyCode/fashionmnist/fashion-mnist_test.csv')\n",
    "ds_train = pd.read_csv('../ClassMyCode/fashionmnist/fashion-mnist_train.csv')"
   ]
  },
  {
   "cell_type": "code",
   "execution_count": 18,
   "metadata": {},
   "outputs": [],
   "source": [
    "fashion_train = ds_train.values\n",
    "fashion_test = ds_test.values\n",
    "max_idx = 3000\n",
    "split_factor = 0.85\n",
    "x_train = fashion_train[:1000,1:]\n",
    "y_train = fashion_train[:1000,0]\n",
    "x_test = fashion_test[:200,1:]\n",
    "y_test = fashion_test[:200,0]"
   ]
  },
  {
   "cell_type": "code",
   "execution_count": 24,
   "metadata": {},
   "outputs": [
    {
     "name": "stdout",
     "output_type": "stream",
     "text": [
      "0.735\n"
     ]
    }
   ],
   "source": [
    "print(getAccuracy(x_test, y_test, x_train, y_train, 13))"
   ]
  },
  {
   "cell_type": "code",
   "execution_count": 20,
   "metadata": {},
   "outputs": [],
   "source": [
    "cls = neighbors.KNeighborsClassifier()\n",
    "cls.fit( x_train, y_train )\n",
    "Y_pred = cls.predict(x_test)"
   ]
  },
  {
   "cell_type": "code",
   "execution_count": 21,
   "metadata": {},
   "outputs": [
    {
     "data": {
      "text/plain": [
       "0.745"
      ]
     },
     "execution_count": 21,
     "metadata": {},
     "output_type": "execute_result"
    }
   ],
   "source": [
    "np.sum( y_test == Y_pred )/ float( y_test.shape[0] )"
   ]
  },
  {
   "cell_type": "code",
   "execution_count": 25,
   "metadata": {},
   "outputs": [
    {
     "data": {
      "text/plain": [
       "0.745"
      ]
     },
     "execution_count": 25,
     "metadata": {},
     "output_type": "execute_result"
    }
   ],
   "source": [
    "cls.score(x_test, y_test)"
   ]
  },
  {
   "cell_type": "code",
   "execution_count": null,
   "metadata": {},
   "outputs": [],
   "source": []
  }
 ],
 "metadata": {
  "kernelspec": {
   "display_name": "Python 2",
   "language": "python",
   "name": "python2"
  },
  "language_info": {
   "codemirror_mode": {
    "name": "ipython",
    "version": 2
   },
   "file_extension": ".py",
   "mimetype": "text/x-python",
   "name": "python",
   "nbconvert_exporter": "python",
   "pygments_lexer": "ipython2",
   "version": "2.7.15"
  }
 },
 "nbformat": 4,
 "nbformat_minor": 2
}
