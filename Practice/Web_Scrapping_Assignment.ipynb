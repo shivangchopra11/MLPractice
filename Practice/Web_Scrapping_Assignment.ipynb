{
 "cells": [
  {
   "cell_type": "code",
   "execution_count": 1,
   "metadata": {},
   "outputs": [],
   "source": [
    "import numpy as np\n",
    "import pandas as pd\n",
    "import matplotlib.pyplot as plt\n",
    "import requests\n",
    "from bs4 import BeautifulSoup\n",
    "%matplotlib inline"
   ]
  },
  {
   "cell_type": "code",
   "execution_count": 2,
   "metadata": {},
   "outputs": [
    {
     "name": "stdout",
     "output_type": "stream",
     "text": [
      "https://www.imdb.com/find?ref_=nv_sr_fn&q=thor+the+dark+world+movie&s=all\n",
      "<class 'requests.models.Response'>\n"
     ]
    },
    {
     "data": {
      "text/plain": [
       "200"
      ]
     },
     "execution_count": 2,
     "metadata": {},
     "output_type": "execute_result"
    }
   ],
   "source": [
    "search = 'thor the dark world'\n",
    "url1 = 'https://www.imdb.com/find?ref_=nv_sr_fn&q='\n",
    "url2 = 'movie&s=all'\n",
    "search_arr = search.split(' ')\n",
    "url = url1\n",
    "for ix in search_arr:\n",
    "    url += (ix+'+')\n",
    "url += url2\n",
    "print url\n",
    "r = requests.get(url)\n",
    "print type(r)\n",
    "r.status_code"
   ]
  },
  {
   "cell_type": "code",
   "execution_count": 3,
   "metadata": {},
   "outputs": [
    {
     "name": "stdout",
     "output_type": "stream",
     "text": [
      "<type 'unicode'>\n"
     ]
    }
   ],
   "source": [
    "info = r.text\n",
    "print type(info)"
   ]
  },
  {
   "cell_type": "code",
   "execution_count": 4,
   "metadata": {},
   "outputs": [],
   "source": [
    "soup = BeautifulSoup(info, 'html.parser')"
   ]
  },
  {
   "cell_type": "code",
   "execution_count": 5,
   "metadata": {},
   "outputs": [
    {
     "name": "stdout",
     "output_type": "stream",
     "text": [
      "<class 'bs4.BeautifulSoup'>\n"
     ]
    }
   ],
   "source": [
    "print type(soup)"
   ]
  },
  {
   "cell_type": "code",
   "execution_count": 6,
   "metadata": {},
   "outputs": [
    {
     "name": "stdout",
     "output_type": "stream",
     "text": [
      "1\n"
     ]
    }
   ],
   "source": [
    "table_info = soup.find_all('table',{'class': 'findList'})\n",
    "print len(table_info)\n"
   ]
  },
  {
   "cell_type": "code",
   "execution_count": 7,
   "metadata": {},
   "outputs": [
    {
     "name": "stdout",
     "output_type": "stream",
     "text": [
      "/title/tt1981115/?ref_=fn_al_tt_1\n"
     ]
    }
   ],
   "source": [
    "rows = table_info[0].find_all('tr')\n",
    "print (rows[0].a['href'])\n",
    "rel_movie_url = rows[0].a['href']"
   ]
  },
  {
   "cell_type": "code",
   "execution_count": 8,
   "metadata": {},
   "outputs": [
    {
     "name": "stdout",
     "output_type": "stream",
     "text": [
      "https://www.imdb.com/title/tt1981115/?ref_=fn_al_tt_1\n"
     ]
    }
   ],
   "source": [
    "movie_url = 'https://www.imdb.com' + rel_movie_url\n",
    "print movie_url"
   ]
  },
  {
   "cell_type": "code",
   "execution_count": 9,
   "metadata": {},
   "outputs": [],
   "source": [
    "r1 = requests.get(movie_url)\n",
    "info_movie = r1.text\n",
    "# print info_movie"
   ]
  },
  {
   "cell_type": "code",
   "execution_count": 10,
   "metadata": {},
   "outputs": [],
   "source": [
    "soup_movie = BeautifulSoup(info_movie, 'html.parser')"
   ]
  },
  {
   "cell_type": "code",
   "execution_count": 11,
   "metadata": {},
   "outputs": [
    {
     "name": "stdout",
     "output_type": "stream",
     "text": [
      "Thousands of years ago, a race of beings known as Dark Elves tried to send the universe into darkness by using a weapon known as the Aether. Warriors from Asgard stop them but their leader Malekith escapes to wait for another opportunity. The warriors find the Aether and since it cannot be destroyed, they try to hide it. In the present day, Jane Foster awaits the return of Thor although it has been two years since they last saw once another. In the meantime, Thor has been trying to bring peace to the nine realms. Jane discovers an anomaly similar to the one that brought Thor to Earth. She goes to investigate, finds a wormhole, and is sucked into it. Back on Asgard, Thor wishes to return to Earth but his father, Odin refuses to let him. Thor learns from Heimdall, who can see into all of the realms, that Jane disappeared. Thor then returns to Earth just as Jane reappears. However, when some policemen try to arrest her, an unknown energy repulses them. Thor then brings Jane to Asgard to ...\n"
     ]
    }
   ],
   "source": [
    "movie_desc = soup_movie.find('span',{'itemprop': 'description'})\n",
    "print movie_desc.text.strip()"
   ]
  },
  {
   "cell_type": "code",
   "execution_count": 12,
   "metadata": {},
   "outputs": [
    {
     "name": "stdout",
     "output_type": "stream",
     "text": [
      "<class 'bs4.element.ResultSet'>\n",
      "[<div class=\"see-more inline canwrap\" itemprop=\"genre\">\\n<h4 class=\"inline\">Genres:</h4>\\n<a href=\"/genre/Action?ref_=tt_stry_gnr\"> Action</a>\\xa0<span>|</span>\\n<a href=\"/genre/Adventure?ref_=tt_stry_gnr\"> Adventure</a>\\xa0<span>|</span>\\n<a href=\"/genre/Sci-Fi?ref_=tt_stry_gnr\"> Sci-Fi</a>\\n</div>]\n"
     ]
    }
   ],
   "source": [
    "movie_genre = soup_movie.find_all('div',{'itemprop': 'genre'})\n",
    "print type(movie_genre)\n",
    "print movie_genre"
   ]
  },
  {
   "cell_type": "code",
   "execution_count": 13,
   "metadata": {},
   "outputs": [
    {
     "name": "stdout",
     "output_type": "stream",
     "text": [
      "<div class=\"see-more inline canwrap\" itemprop=\"genre\">\n",
      "<h4 class=\"inline\">Genres:</h4>\n",
      "<a href=\"/genre/Action?ref_=tt_stry_gnr\"> Action</a> <span>|</span>\n",
      "<a href=\"/genre/Adventure?ref_=tt_stry_gnr\"> Adventure</a> <span>|</span>\n",
      "<a href=\"/genre/Sci-Fi?ref_=tt_stry_gnr\"> Sci-Fi</a>\n",
      "</div>\n",
      "[u' Action', u' Adventure', u' Sci-Fi']\n"
     ]
    }
   ],
   "source": [
    "for ix in movie_genre:\n",
    "    print ix\n",
    "result = []\n",
    "for th in movie_genre:\n",
    "    result.extend(th.find_all('a'))\n",
    "genres_list = []\n",
    "for ix in result:\n",
    "    genres_list.append(ix.text)\n",
    "print genres_list"
   ]
  },
  {
   "cell_type": "code",
   "execution_count": 27,
   "metadata": {},
   "outputs": [
    {
     "name": "stdout",
     "output_type": "stream",
     "text": [
      "$170,000,000\n",
      "$170,000,000\n",
      "            (estimated)\n"
     ]
    }
   ],
   "source": [
    "collection = soup_movie.find_all('div',{'class': 'txt-block'})\n",
    "fin_collection = ''\n",
    "for ix in collection:\n",
    "    cur = ix.text.strip().split(':')\n",
    "#     print cur\n",
    "    if cur[0] == 'Budget':\n",
    "        print cur[1].split('(')[0].strip()\n",
    "        fin_collection = cur[-1]\n",
    "print fin_collection"
   ]
  },
  {
   "cell_type": "code",
   "execution_count": 15,
   "metadata": {},
   "outputs": [
    {
     "name": "stdout",
     "output_type": "stream",
     "text": [
      "Thousands of years ago, a race of beings known as Dark Elves tried to send the universe into darkness by using a weapon known as the Aether. Warriors from Asgard stop them but their leader Malekith escapes to wait for another opportunity. The warriors find the Aether and since it cannot be destroyed, they try to hide it. In the present day, Jane Foster awaits the return of Thor although it has been two years since they last saw once another. In the meantime, Thor has been trying to bring peace to the nine realms. Jane discovers an anomaly similar to the one that brought Thor to Earth. She goes to investigate, finds a wormhole, and is sucked into it. Back on Asgard, Thor wishes to return to Earth but his father, Odin refuses to let him. Thor learns from Heimdall, who can see into all of the realms, that Jane disappeared. Thor then returns to Earth just as Jane reappears. However, when some policemen try to arrest her, an unknown energy repulses them. Thor then brings Jane to Asgard to ...\n",
      "[u' Action', u' Adventure', u' Sci-Fi']\n",
      "$644,783,140\n"
     ]
    }
   ],
   "source": [
    "print movie_desc.text.strip()\n",
    "print genres_list\n",
    "print fin_collection"
   ]
  },
  {
   "cell_type": "code",
   "execution_count": null,
   "metadata": {},
   "outputs": [],
   "source": []
  }
 ],
 "metadata": {
  "kernelspec": {
   "display_name": "Python 2",
   "language": "python",
   "name": "python2"
  },
  "language_info": {
   "codemirror_mode": {
    "name": "ipython",
    "version": 2
   },
   "file_extension": ".py",
   "mimetype": "text/x-python",
   "name": "python",
   "nbconvert_exporter": "python",
   "pygments_lexer": "ipython2",
   "version": "2.7.15"
  }
 },
 "nbformat": 4,
 "nbformat_minor": 2
}
