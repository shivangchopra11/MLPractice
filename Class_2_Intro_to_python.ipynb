{
 "cells": [
  {
   "cell_type": "code",
   "execution_count": 1,
   "metadata": {},
   "outputs": [
    {
     "name": "stdout",
     "output_type": "stream",
     "text": [
      "Shivang\n"
     ]
    }
   ],
   "source": [
    "print \"Shivang\""
   ]
  },
  {
   "cell_type": "code",
   "execution_count": 2,
   "metadata": {},
   "outputs": [
    {
     "name": "stdout",
     "output_type": "stream",
     "text": [
      "Hello, World!!\n"
     ]
    }
   ],
   "source": [
    "print \"Hello, World!!\""
   ]
  },
  {
   "cell_type": "code",
   "execution_count": 3,
   "metadata": {},
   "outputs": [
    {
     "name": "stdout",
     "output_type": "stream",
     "text": [
      "[0, 1, 2, 3, 4, 5, 6, 7, 8, 9]\n",
      "<type 'list'>\n"
     ]
    }
   ],
   "source": [
    "#if python 3 use x = list(range(10)) else it will create a generator not a list\n",
    "x = range(10)  \n",
    "print x\n",
    "print type(x)"
   ]
  },
  {
   "cell_type": "code",
   "execution_count": 4,
   "metadata": {},
   "outputs": [
    {
     "name": "stdout",
     "output_type": "stream",
     "text": [
      "[1, 3, 5, 7, 9]\n"
     ]
    }
   ],
   "source": [
    "#starting at 1 uptil 10 printing every second number\n",
    "x = range(1,10,2)\n",
    "print x"
   ]
  },
  {
   "cell_type": "code",
   "execution_count": 14,
   "metadata": {},
   "outputs": [
    {
     "name": "stdout",
     "output_type": "stream",
     "text": [
      "[1, 2, 3, 4, 5, 6, 7, 8, 9]\n",
      "[2, 3, 4]\n",
      "9\n",
      "[1, 2, 3, 4, 5, 6, 7, 8]\n",
      "[7]\n",
      "[1, 3, 5, 7, 9]\n",
      "[2, 5, 8]\n"
     ]
    }
   ],
   "source": [
    "##slicing\n",
    "x = range(1,10)\n",
    "x2 = x[:]\n",
    "print x2\n",
    "##x[(start):(end+1)]\n",
    "x3 = x[1:4]\n",
    "print x3\n",
    "print x[-1]\n",
    "print x[:-1] ##all elements except the last\n",
    "print x[-3:-2]\n",
    "print x[::2] ##x[(start):(end+1):(jump)]\n",
    "print x[1::3]"
   ]
  },
  {
   "cell_type": "code",
   "execution_count": 17,
   "metadata": {},
   "outputs": [
    {
     "name": "stdout",
     "output_type": "stream",
     "text": [
      "<type 'str'>\n",
      "<type 'str'>\n",
      "12341234\n"
     ]
    }
   ],
   "source": [
    "##strings\n",
    "##strings are immutable\n",
    "a = '1234'\n",
    "print type(a)\n",
    "b = \"1234\"\n",
    "print type(a)\n",
    "print a+b"
   ]
  },
  {
   "cell_type": "code",
   "execution_count": 20,
   "metadata": {},
   "outputs": [
    {
     "name": "stdout",
     "output_type": "stream",
     "text": [
      "1\n",
      "2\n",
      "3\n",
      "4\n",
      "5\n",
      "6\n",
      "7\n",
      "8\n",
      "9\n",
      "10\n",
      "1 3 5 7 9\n"
     ]
    }
   ],
   "source": [
    "##loops\n",
    "for ix in range(1,11):\n",
    "    print ix\n",
    "for ix in range(1,11,2):\n",
    "    print ix,   ##no next line"
   ]
  },
  {
   "cell_type": "code",
   "execution_count": 21,
   "metadata": {},
   "outputs": [
    {
     "name": "stdout",
     "output_type": "stream",
     "text": [
      "6\n",
      "8\n"
     ]
    }
   ],
   "source": [
    "print(2*3)\n",
    "print(2**3)"
   ]
  },
  {
   "cell_type": "code",
   "execution_count": 22,
   "metadata": {},
   "outputs": [
    {
     "name": "stdout",
     "output_type": "stream",
     "text": [
      "30\n"
     ]
    }
   ],
   "source": [
    "##functions\n",
    "def my_func(arg1):\n",
    "    return arg1*10\n",
    "print my_func(3)"
   ]
  },
  {
   "cell_type": "code",
   "execution_count": 25,
   "metadata": {},
   "outputs": [
    {
     "name": "stdout",
     "output_type": "stream",
     "text": [
      "set([10])\n",
      "set([10, 12])\n"
     ]
    }
   ],
   "source": [
    "x = set()\n",
    "x.add(10)\n",
    "print(x)\n",
    "x.add(12)\n",
    "print x"
   ]
  },
  {
   "cell_type": "code",
   "execution_count": 8,
   "metadata": {},
   "outputs": [
    {
     "name": "stdout",
     "output_type": "stream",
     "text": [
      "<type 'tuple'>\n",
      "<type 'dict'>\n",
      "22\n",
      "<type 'tuple'>\n",
      "<type 'dict'>\n",
      "52\n",
      "<type 'tuple'>\n",
      "<type 'dict'>\n",
      "67\n"
     ]
    }
   ],
   "source": [
    "def add(a1,a2,*args,**kwargs):\n",
    "    retsum = a1+a2\n",
    "    for ix in args:\n",
    "        retsum += ix\n",
    "    for ix in kwargs:\n",
    "        retsum += kwargs[ix]\n",
    "    print(type(args))\n",
    "    print(type(kwargs))\n",
    "    return retsum\n",
    "print(add(10,12))\n",
    "print(add(10,12,14,16))\n",
    "print(add(10,12,14,16,a=5,b=10))\n",
    "##args:tuple\n",
    "##kwargs::IDictionary"
   ]
  },
  {
   "cell_type": "code",
   "execution_count": null,
   "metadata": {},
   "outputs": [],
   "source": []
  }
 ],
 "metadata": {
  "kernelspec": {
   "display_name": "Python 2",
   "language": "python",
   "name": "python2"
  },
  "language_info": {
   "codemirror_mode": {
    "name": "ipython",
    "version": 2
   },
   "file_extension": ".py",
   "mimetype": "text/x-python",
   "name": "python",
   "nbconvert_exporter": "python",
   "pygments_lexer": "ipython2",
   "version": "2.7.15"
  }
 },
 "nbformat": 4,
 "nbformat_minor": 2
}
